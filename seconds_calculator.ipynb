{
 "cells": [
  {
   "cell_type": "code",
   "execution_count": 12,
   "id": "7b953ec0",
   "metadata": {},
   "outputs": [],
   "source": [
    "# Initialize variables\n",
    "seconds_per_minute = 0\n",
    "seconds_per_hour = 0"
   ]
  },
  {
   "cell_type": "code",
   "execution_count": 13,
   "id": "9d8846e6",
   "metadata": {},
   "outputs": [],
   "source": [
    "# Multiply the number of seconds in a minute by the number of minutes in an hour\n",
    "seconds_per_hour = 60 * 60"
   ]
  },
  {
   "cell_type": "code",
   "execution_count": 14,
   "id": "74119893",
   "metadata": {},
   "outputs": [],
   "source": [
    "# Calculate the number of seconds in a day using the seconds_per_hour variable\n",
    "seconds_per_day = seconds_per_hour * 24"
   ]
  },
  {
   "cell_type": "code",
   "execution_count": 15,
   "id": "2a735ba3",
   "metadata": {},
   "outputs": [],
   "source": [
    "# Divide seconds_per_day by seconds_per_hour using floating-point division\n",
    "float_division = seconds_per_day / seconds_per_hour"
   ]
  },
  {
   "cell_type": "code",
   "execution_count": 16,
   "id": "d215edd9",
   "metadata": {},
   "outputs": [],
   "source": [
    "# Divide seconds_per_day by seconds_per_hour using integer division\n",
    "integer_division = seconds_per_day // seconds_per_hour"
   ]
  },
  {
   "cell_type": "code",
   "execution_count": 17,
   "id": "9d8d7b12",
   "metadata": {},
   "outputs": [
    {
     "name": "stdout",
     "output_type": "stream",
     "text": [
      "Seconds per hour: 3600\n"
     ]
    }
   ],
   "source": [
    "# Print the results\n",
    "print(\"Seconds per hour:\", seconds_per_hour)"
   ]
  },
  {
   "cell_type": "code",
   "execution_count": 18,
   "id": "a78f6b0c",
   "metadata": {},
   "outputs": [
    {
     "name": "stdout",
     "output_type": "stream",
     "text": [
      "Seconds per day: 86400\n"
     ]
    }
   ],
   "source": [
    "print(\"Seconds per day:\", seconds_per_day)"
   ]
  },
  {
   "cell_type": "code",
   "execution_count": 19,
   "id": "3ff02393",
   "metadata": {},
   "outputs": [
    {
     "name": "stdout",
     "output_type": "stream",
     "text": [
      "Floating-point division: 24.0\n"
     ]
    }
   ],
   "source": [
    "print(\"Floating-point division:\", float_division)"
   ]
  },
  {
   "cell_type": "code",
   "execution_count": 20,
   "id": "359fcdad",
   "metadata": {
    "scrolled": true
   },
   "outputs": [
    {
     "name": "stdout",
     "output_type": "stream",
     "text": [
      "Integer division: 24\n"
     ]
    }
   ],
   "source": [
    "print(\"Integer division:\", integer_division)"
   ]
  }
 ],
 "metadata": {
  "kernelspec": {
   "display_name": "Python 3 (ipykernel)",
   "language": "python",
   "name": "python3"
  },
  "language_info": {
   "codemirror_mode": {
    "name": "ipython",
    "version": 3
   },
   "file_extension": ".py",
   "mimetype": "text/x-python",
   "name": "python",
   "nbconvert_exporter": "python",
   "pygments_lexer": "ipython3",
   "version": "3.9.13"
  }
 },
 "nbformat": 4,
 "nbformat_minor": 5
}
